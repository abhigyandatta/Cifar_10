{
  "nbformat": 4,
  "nbformat_minor": 0,
  "metadata": {
    "colab": {
      "name": "cifar_cnn_intro.ipynb",
      "provenance": []
    },
    "kernelspec": {
      "name": "python3",
      "display_name": "Python 3"
    },
    "language_info": {
      "name": "python"
    },
    "accelerator": "GPU",
    "gpuClass": "standard"
  },
  "cells": [
    {
      "cell_type": "markdown",
      "source": [
        "## Import Libraries"
      ],
      "metadata": {
        "id": "X3QbV4yMTA-c"
      }
    },
    {
      "cell_type": "code",
      "source": [
        "import numpy as np\n",
        "\n",
        "import tensorflow\n",
        "from tensorflow import keras\n",
        "from tensorflow.keras import Sequential\n",
        "from tensorflow.keras.layers import Dense,MaxPool2D,Conv2D,Flatten,Dropout\n",
        "import matplotlib.pyplot as plt"
      ],
      "metadata": {
        "id": "Hx9-RwV7TC-F"
      },
      "execution_count": 1,
      "outputs": []
    },
    {
      "cell_type": "markdown",
      "source": [
        "## Import preloaded cifar dataset from keras"
      ],
      "metadata": {
        "id": "bZMg2dBZTr9b"
      }
    },
    {
      "cell_type": "code",
      "source": [
        "(x_train, y_train), (x_test, y_test) = keras.datasets.cifar10.load_data()"
      ],
      "metadata": {
        "colab": {
          "base_uri": "https://localhost:8080/"
        },
        "id": "R9efO6PWTcJW",
        "outputId": "dd8f2d98-8d38-49e4-e598-20dd95e141ad"
      },
      "execution_count": 2,
      "outputs": [
        {
          "output_type": "stream",
          "name": "stdout",
          "text": [
            "Downloading data from https://www.cs.toronto.edu/~kriz/cifar-10-python.tar.gz\n",
            "170500096/170498071 [==============================] - 13s 0us/step\n",
            "170508288/170498071 [==============================] - 13s 0us/step\n"
          ]
        }
      ]
    },
    {
      "cell_type": "markdown",
      "source": [
        "## Checking shape of the Data"
      ],
      "metadata": {
        "id": "hkcaF1YAUXaT"
      }
    },
    {
      "cell_type": "code",
      "source": [
        "x_train.shape"
      ],
      "metadata": {
        "colab": {
          "base_uri": "https://localhost:8080/"
        },
        "id": "g9YdC827T86a",
        "outputId": "70b5b43d-b679-4b78-f2c2-208e7f943243"
      },
      "execution_count": 3,
      "outputs": [
        {
          "output_type": "execute_result",
          "data": {
            "text/plain": [
              "(50000, 32, 32, 3)"
            ]
          },
          "metadata": {},
          "execution_count": 3
        }
      ]
    },
    {
      "cell_type": "markdown",
      "source": [
        "50000--> nos of rows  \n",
        "(32,32) --> nos of pixels  \n",
        "3 for RGB channels"
      ],
      "metadata": {
        "id": "TfS_bDL2UqkL"
      }
    },
    {
      "cell_type": "markdown",
      "source": [
        "# Define the classes"
      ],
      "metadata": {
        "id": "VN9W00KmUzeb"
      }
    },
    {
      "cell_type": "code",
      "source": [
        "classes=['airplane','automobile','bird','cat','deer','dog','frog','horse','ship','truck']"
      ],
      "metadata": {
        "id": "VdPdI4vNUbv1"
      },
      "execution_count": 4,
      "outputs": []
    },
    {
      "cell_type": "code",
      "source": [
        "sample=np.random.randint(len(x_train))\n",
        "plt.imshow(x_train[sample])\n",
        "print(classes[y_train[sample][0]])"
      ],
      "metadata": {
        "colab": {
          "base_uri": "https://localhost:8080/",
          "height": 283
        },
        "id": "tJ_QRpJ2VHWM",
        "outputId": "22c7bf6f-4a1d-40d5-b4cd-a41d4a45b6a2"
      },
      "execution_count": 5,
      "outputs": [
        {
          "output_type": "stream",
          "name": "stdout",
          "text": [
            "airplane\n"
          ]
        },
        {
          "output_type": "display_data",
          "data": {
            "text/plain": [
              "<Figure size 432x288 with 1 Axes>"
            ],
            "image/png": "[encoded data removed]"
          },
          "metadata": {
            "needs_background": "light"
          }
        }
      ]
    },
    {
      "cell_type": "code",
      "source": [
        "# scaling the input\n",
        "X_train,X_test=x_train/255,x_test/255"
      ],
      "metadata": {
        "id": "hXdqmD51VRsU"
      },
      "execution_count": 6,
      "outputs": []
    },
    {
      "cell_type": "markdown",
      "source": [
        "# Steps in CNN:  \n",
        "1) Model Creation  (Conv,relu,pooling,flatten,ANN)  \n",
        "2)model compilation  \n",
        "3)model fitting"
      ],
      "metadata": {
        "id": "CCaOk9XqX01j"
      }
    },
    {
      "cell_type": "markdown",
      "source": [
        "# Model Creation"
      ],
      "metadata": {
        "id": "j0VfxrjrX5G6"
      }
    },
    {
      "cell_type": "code",
      "source": [
        "# Convolution layer\n",
        "model=Sequential()\n",
        "\n",
        "#cnn layer 1\n",
        "model.add(Conv2D(filters=32,kernel_size=2,padding='valid',activation='relu'))\n",
        "model.add(MaxPool2D())\n",
        "\n",
        "#cnn layer 2\n",
        "model.add(Conv2D(filters=64,kernel_size=2,padding='valid',activation='relu'))\n",
        "model.add(MaxPool2D())\n",
        "\n",
        "#cnn layer 3\n",
        "model.add(Conv2D(filters=96,kernel_size=2,padding='valid',activation='relu'))\n",
        "model.add(MaxPool2D())\n",
        "\n",
        "#Flatten the output of pooling before feeding to ANN\n",
        "model.add(Flatten())\n",
        "\n",
        "#fully connected layer or ANN\n",
        "#hidden layers\n",
        "model.add(Dense(160,activation='relu'))\n",
        "model.add(Dropout(0.3))\n",
        "\n",
        "model.add(Dense(80,activation='sigmoid'))\n",
        "model.add(Dropout(0.3))\n",
        "\n",
        "model.add(Dense(40,activation='relu'))\n",
        "model.add(Dropout(0.3))\n",
        "\n",
        "\n",
        "#output layer\n",
        "model.add(Dense(10,activation='softmax'))"
      ],
      "metadata": {
        "id": "XnmSWDEhXks8"
      },
      "execution_count": 7,
      "outputs": []
    },
    {
      "cell_type": "markdown",
      "source": [
        "## Model Compilation"
      ],
      "metadata": {
        "id": "27AecuXwaMFj"
      }
    },
    {
      "cell_type": "code",
      "source": [
        "model.compile(optimizer='adam',loss='sparse_categorical_crossentropy',metrics='accuracy')"
      ],
      "metadata": {
        "id": "BL1WU-NXZjkH"
      },
      "execution_count": 8,
      "outputs": []
    },
    {
      "cell_type": "markdown",
      "source": [
        "## Early Stopping callback"
      ],
      "metadata": {
        "id": "XtS5uA9Fa7uz"
      }
    },
    {
      "cell_type": "code",
      "source": [
        "from tensorflow.keras.callbacks import EarlyStopping"
      ],
      "metadata": {
        "id": "fxWsIOuAaaPE"
      },
      "execution_count": 9,
      "outputs": []
    },
    {
      "cell_type": "code",
      "source": [
        "call=EarlyStopping(monitor='val_loss',min_delta=1e-5,patience=5,verbose=1,restore_best_weights=True)"
      ],
      "metadata": {
        "id": "SeU5A-hAbDNr"
      },
      "execution_count": 10,
      "outputs": []
    },
    {
      "cell_type": "markdown",
      "source": [
        "## Fitting the model"
      ],
      "metadata": {
        "id": "Ckr2KSU2cA0L"
      }
    },
    {
      "cell_type": "code",
      "source": [
        "model.fit(X_train,y_train,batch_size=32,epochs=70,callbacks=call,validation_data=(X_test,y_test))"
      ],
      "metadata": {
        "colab": {
          "base_uri": "https://localhost:8080/"
        },
        "id": "KY0PyJUEbpLp",
        "outputId": "112cd7c9-4a43-4043-d3a6-18900fb93e93"
      },
      "execution_count": 11,
      "outputs": [
        {
          "output_type": "stream",
          "name": "stdout",
          "text": [
            "Epoch 1/70\n",
            "1563/1563 [==============================] - 20s 5ms/step - loss: 1.9184 - accuracy: 0.2624 - val_loss: 1.5070 - val_accuracy: 0.4393\n",
            "Epoch 2/70\n",
            "1563/1563 [==============================] - 8s 5ms/step - loss: 1.5126 - accuracy: 0.4448 - val_loss: 1.3335 - val_accuracy: 0.5201\n",
            "Epoch 3/70\n",
            "1563/1563 [==============================] - 8s 5ms/step - loss: 1.3535 - accuracy: 0.5127 - val_loss: 1.1805 - val_accuracy: 0.5771\n",
            "Epoch 4/70\n",
            "1563/1563 [==============================] - 8s 5ms/step - loss: 1.2472 - accuracy: 0.5598 - val_loss: 1.1525 - val_accuracy: 0.5872\n",
            "Epoch 5/70\n",
            "1563/1563 [==============================] - 8s 5ms/step - loss: 1.1677 - accuracy: 0.5921 - val_loss: 1.0605 - val_accuracy: 0.6267\n",
            "Epoch 6/70\n",
            "1563/1563 [==============================] - 8s 5ms/step - loss: 1.0956 - accuracy: 0.6197 - val_loss: 1.0302 - val_accuracy: 0.6395\n",
            "Epoch 7/70\n",
            "1563/1563 [==============================] - 8s 5ms/step - loss: 1.0385 - accuracy: 0.6421 - val_loss: 0.9531 - val_accuracy: 0.6709\n",
            "Epoch 8/70\n",
            "1563/1563 [==============================] - 8s 5ms/step - loss: 0.9842 - accuracy: 0.6661 - val_loss: 0.9229 - val_accuracy: 0.6805\n",
            "Epoch 9/70\n",
            "1563/1563 [==============================] - 7s 5ms/step - loss: 0.9460 - accuracy: 0.6795 - val_loss: 0.9127 - val_accuracy: 0.6863\n",
            "Epoch 10/70\n",
            "1563/1563 [==============================] - 8s 5ms/step - loss: 0.9075 - accuracy: 0.6925 - val_loss: 0.8719 - val_accuracy: 0.7007\n",
            "Epoch 11/70\n",
            "1563/1563 [==============================] - 8s 5ms/step - loss: 0.8688 - accuracy: 0.7047 - val_loss: 0.8729 - val_accuracy: 0.7019\n",
            "Epoch 12/70\n",
            "1563/1563 [==============================] - 8s 5ms/step - loss: 0.8442 - accuracy: 0.7169 - val_loss: 0.8614 - val_accuracy: 0.7112\n",
            "Epoch 13/70\n",
            "1563/1563 [==============================] - 8s 5ms/step - loss: 0.8210 - accuracy: 0.7254 - val_loss: 0.8656 - val_accuracy: 0.7103\n",
            "Epoch 14/70\n",
            "1563/1563 [==============================] - 8s 5ms/step - loss: 0.7973 - accuracy: 0.7321 - val_loss: 0.8272 - val_accuracy: 0.7229\n",
            "Epoch 15/70\n",
            "1563/1563 [==============================] - 8s 5ms/step - loss: 0.7660 - accuracy: 0.7436 - val_loss: 0.8277 - val_accuracy: 0.7226\n",
            "Epoch 16/70\n",
            "1563/1563 [==============================] - 8s 5ms/step - loss: 0.7488 - accuracy: 0.7499 - val_loss: 0.8388 - val_accuracy: 0.7198\n",
            "Epoch 17/70\n",
            "1563/1563 [==============================] - 8s 5ms/step - loss: 0.7312 - accuracy: 0.7553 - val_loss: 0.7841 - val_accuracy: 0.7306\n",
            "Epoch 18/70\n",
            "1563/1563 [==============================] - 8s 5ms/step - loss: 0.7081 - accuracy: 0.7648 - val_loss: 0.8276 - val_accuracy: 0.7335\n",
            "Epoch 19/70\n",
            "1563/1563 [==============================] - 8s 5ms/step - loss: 0.6905 - accuracy: 0.7721 - val_loss: 0.8367 - val_accuracy: 0.7264\n",
            "Epoch 20/70\n",
            "1563/1563 [==============================] - 8s 5ms/step - loss: 0.6734 - accuracy: 0.7758 - val_loss: 0.8340 - val_accuracy: 0.7305\n",
            "Epoch 21/70\n",
            "1563/1563 [==============================] - 8s 5ms/step - loss: 0.6588 - accuracy: 0.7811 - val_loss: 0.7958 - val_accuracy: 0.7382\n",
            "Epoch 22/70\n",
            "1555/1563 [============================>.] - ETA: 0s - loss: 0.6407 - accuracy: 0.7866Restoring model weights from the end of the best epoch: 17.\n",
            "1563/1563 [==============================] - 8s 5ms/step - loss: 0.6411 - accuracy: 0.7866 - val_loss: 0.8262 - val_accuracy: 0.7368\n",
            "Epoch 22: early stopping\n"
          ]
        },
        {
          "output_type": "execute_result",
          "data": {
            "text/plain": [
              "<keras.callbacks.History at 0x7f1d601a1850>"
            ]
          },
          "metadata": {},
          "execution_count": 11
        }
      ]
    },
    {
      "cell_type": "markdown",
      "source": [
        "# Saving the model"
      ],
      "metadata": {
        "id": "qYeeM_V1upT2"
      }
    },
    {
      "cell_type": "code",
      "source": [
        "model.save('cifar10_78.h5')"
      ],
      "metadata": {
        "id": "8Se3dZ1ncZFP"
      },
      "execution_count": 13,
      "outputs": []
    },
    {
      "cell_type": "code",
      "source": [
        ""
      ],
      "metadata": {
        "id": "aov_Uh40xQ8s"
      },
      "execution_count": null,
      "outputs": []
    },
    {
      "cell_type": "markdown",
      "source": [
        "## Loading a Saved model"
      ],
      "metadata": {
        "id": "U7iLXJs6xdP1"
      }
    },
    {
      "cell_type": "code",
      "source": [
        "from tensorflow import keras\n",
        "import numpy as np"
      ],
      "metadata": {
        "id": "qcjWjrqfxkGN"
      },
      "execution_count": 15,
      "outputs": []
    },
    {
      "cell_type": "code",
      "source": [
        "my_model=keras.models.load_model('/content/cifar10_78.h5')"
      ],
      "metadata": {
        "id": "OcOHjiuixV1U"
      },
      "execution_count": 16,
      "outputs": []
    },
    {
      "cell_type": "markdown",
      "source": [
        "# Predicting using the model"
      ],
      "metadata": {
        "id": "BA3QrO2Sx3RG"
      }
    },
    {
      "cell_type": "code",
      "source": [
        "sample=np.random.randint(len(X_test))\n",
        "plt.imshow(X_test[sample])\n",
        "y_prob=my_model.predict(X_test)[sample]\n",
        "y_pred=np.argmax(y_prob)\n",
        "print(classes[y_pred])"
      ],
      "metadata": {
        "colab": {
          "base_uri": "https://localhost:8080/",
          "height": 283
        },
        "id": "WVsSpbypx0-P",
        "outputId": "aaf7e8eb-3444-4f84-8e27-de17c9e3d092"
      },
      "execution_count": 26,
      "outputs": [
        {
          "output_type": "stream",
          "name": "stdout",
          "text": [
            "frog\n"
          ]
        },
        {
          "output_type": "display_data",
          "data": {
            "text/plain": [
              "<Figure size 432x288 with 1 Axes>"
            ],
            "image/png": "[encoded data removed]"
          },
          "metadata": {
            "needs_background": "light"
          }
        }
      ]
    },
    {
      "cell_type": "code",
      "source": [
        ""
      ],
      "metadata": {
        "id": "bkqF1gJnzDHm"
      },
      "execution_count": null,
      "outputs": []
    }
  ]
}